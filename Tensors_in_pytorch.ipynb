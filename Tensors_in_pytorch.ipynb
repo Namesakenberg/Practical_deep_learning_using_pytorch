{
  "nbformat": 4,
  "nbformat_minor": 0,
  "metadata": {
    "colab": {
      "provenance": [],
      "gpuType": "T4",
      "authorship_tag": "ABX9TyO+FaiblAvnElLLq7E63WD8",
      "include_colab_link": true
    },
    "kernelspec": {
      "name": "python3",
      "display_name": "Python 3"
    },
    "language_info": {
      "name": "python"
    },
    "accelerator": "GPU"
  },
  "cells": [
    {
      "cell_type": "markdown",
      "metadata": {
        "id": "view-in-github",
        "colab_type": "text"
      },
      "source": [
        "<a href=\"https://colab.research.google.com/github/Namesakenberg/Practical_deep_learning_using_pytorch/blob/main/Tensors_in_pytorch.ipynb\" target=\"_parent\"><img src=\"https://colab.research.google.com/assets/colab-badge.svg\" alt=\"Open In Colab\"/></a>"
      ]
    },
    {
      "cell_type": "markdown",
      "source": [
        "## Tensors in Pytorch\n"
      ],
      "metadata": {
        "id": "ZLBDYlv2O3RX"
      }
    },
    {
      "cell_type": "markdown",
      "source": [
        "Tensors :  **Tensor is a data structure , a way of representing data.**\n",
        "\n",
        "Tensors are used to represent multi dimensional arrays.\n",
        "Thus , eveything that an array can do in 1D , tensors can do it in n-D **bold text**\n",
        "\n",
        "Dimension : The number of directions in which the tensor is spread out in.\n",
        "\n",
        "0 dimension tensor : spread in no direction i.e a scalar\n",
        "\n",
        "1 dimension tensor : spread in one direction -> a vectors or array.\n",
        "eg : embeddings used to make a dense vector from a word.\n",
        "\n",
        "2 dimension tensor : spread in 2 directions\n",
        "eg : GreyScale image from MNIST , which only has 2 dimension\n",
        "\n",
        "3 dimension tensor : spread in 3 dimensions\n",
        "eg : Colored images , they have 3 channels R,G,B : [128,128,3]\n",
        "\n",
        "4D tensor : batches of images , passed to an NN while training\n",
        "[32 , 128 ,128 ,3]\n",
        "\n",
        "5D tensor : Videos , which is a sequence of images with frames\n"
      ],
      "metadata": {
        "id": "CXqpBUINPUjs"
      }
    },
    {
      "cell_type": "markdown",
      "source": [
        " ***memory consumed by a tensor is 8 * n bytes*** , where n is number of elements\n",
        "\n",
        "  \n",
        "thus a 2x3 tensor will take 48 bytes"
      ],
      "metadata": {
        "id": "RvDG_YdGhMEk"
      }
    },
    {
      "cell_type": "markdown",
      "source": [
        "*Why are tensors so important in deep learning ?*\n",
        "\n",
        "1) we can perform basic mathematical operations efficiently\n",
        "\n",
        "\n",
        "2) we can map the real word data into deep learning using tensors , like text,images,\n",
        "\n",
        "\n",
        "3) Efficient Computations : we can run them on GPU or TPU and can do parallel processing.\n",
        "thus operations between huge matrices , vectors is done efficiently , when represented them using tensors"
      ],
      "metadata": {
        "id": "sZeaOA5zSBg4"
      }
    },
    {
      "cell_type": "markdown",
      "source": [
        "*where are tensors used in deep learning ?*\n",
        "\n",
        "1) Data Storage : we can store any form of data using tensors , thus images , text , videos are stored easily\n",
        "\n",
        "**2) the learnable parameters in Neural Nets like weights and bias are in the tensor form**\n",
        "\n",
        "**3) All the matrix operations and the operations in forward and backpropagation , all the operations are on tensor**"
      ],
      "metadata": {
        "id": "Xfzrr5G0S5Cy"
      }
    },
    {
      "cell_type": "code",
      "source": [
        "import torch\n",
        "print(torch.__version__)"
      ],
      "metadata": {
        "colab": {
          "base_uri": "https://localhost:8080/"
        },
        "id": "EllPPlxGPDe6",
        "outputId": "e72ee2e0-e240-4bd0-e5f2-4396a3027bc2"
      },
      "execution_count": 1,
      "outputs": [
        {
          "output_type": "stream",
          "name": "stdout",
          "text": [
            "2.8.0+cu126\n"
          ]
        }
      ]
    },
    {
      "cell_type": "code",
      "source": [
        "if torch.cuda.is_available():\n",
        "  print(\"GPU\",torch.cuda.get_device_properties(0))\n",
        "else:\n",
        "  print(\"NO Gpu , using CPU\")"
      ],
      "metadata": {
        "colab": {
          "base_uri": "https://localhost:8080/"
        },
        "id": "p616WoI4TvLy",
        "outputId": "bb3a0f85-3173-4a38-c794-9b867eb89f78"
      },
      "execution_count": 2,
      "outputs": [
        {
          "output_type": "stream",
          "name": "stdout",
          "text": [
            "GPU _CudaDeviceProperties(name='Tesla T4', major=7, minor=5, total_memory=15095MB, multi_processor_count=40, uuid=d56808cf-ca63-14cf-3cf4-cffcdc774a2f, pci_bus_id=0, pci_device_id=4, pci_domain_id=0, L2_cache_size=4MB)\n"
          ]
        }
      ]
    },
    {
      "cell_type": "markdown",
      "source": [
        "## Creating a tensor"
      ],
      "metadata": {
        "id": "4VXvr-3oUoPZ"
      }
    },
    {
      "cell_type": "code",
      "source": [
        "t1 = torch.empty(3,3)\n",
        "\n",
        "# empty function allocates space in the memory , it does not assign value in the memory\n",
        "# , it shows the existing values there\n"
      ],
      "metadata": {
        "id": "nnMqVbCfUOJk"
      },
      "execution_count": 5,
      "outputs": []
    },
    {
      "cell_type": "code",
      "source": [
        "type(t1)"
      ],
      "metadata": {
        "colab": {
          "base_uri": "https://localhost:8080/"
        },
        "id": "OnZw8AJfVD7J",
        "outputId": "a0dac086-55f2-4ec1-9a96-550690b80635"
      },
      "execution_count": 6,
      "outputs": [
        {
          "output_type": "execute_result",
          "data": {
            "text/plain": [
              "torch.Tensor"
            ]
          },
          "metadata": {},
          "execution_count": 6
        }
      ]
    },
    {
      "cell_type": "code",
      "source": [
        "torch.zeros(3,3)"
      ],
      "metadata": {
        "colab": {
          "base_uri": "https://localhost:8080/"
        },
        "id": "2TppFqg-VKSn",
        "outputId": "48d7f1b2-5a46-4b6d-b667-76e0b36521d2"
      },
      "execution_count": 11,
      "outputs": [
        {
          "output_type": "execute_result",
          "data": {
            "text/plain": [
              "tensor([[0., 0., 0.],\n",
              "        [0., 0., 0.],\n",
              "        [0., 0., 0.]])"
            ]
          },
          "metadata": {},
          "execution_count": 11
        }
      ]
    },
    {
      "cell_type": "code",
      "source": [
        "torch.ones(3,3)"
      ],
      "metadata": {
        "colab": {
          "base_uri": "https://localhost:8080/"
        },
        "id": "Sacp_GxsVSFN",
        "outputId": "6ad23377-f04d-47e5-cf48-e4a9baf80ec1"
      },
      "execution_count": 8,
      "outputs": [
        {
          "output_type": "execute_result",
          "data": {
            "text/plain": [
              "tensor([[1., 1., 1.],\n",
              "        [1., 1., 1.],\n",
              "        [1., 1., 1.]])"
            ]
          },
          "metadata": {},
          "execution_count": 8
        }
      ]
    },
    {
      "cell_type": "code",
      "source": [
        "torch.rand(1,2)\n",
        "\n",
        "# creates tensor with random values"
      ],
      "metadata": {
        "colab": {
          "base_uri": "https://localhost:8080/"
        },
        "id": "duq4_gRLVTsk",
        "outputId": "2605e2c8-d626-4778-d23c-4917219a512c"
      },
      "execution_count": 10,
      "outputs": [
        {
          "output_type": "execute_result",
          "data": {
            "text/plain": [
              "tensor([[0.0568, 0.9885]])"
            ]
          },
          "metadata": {},
          "execution_count": 10
        }
      ]
    },
    {
      "cell_type": "code",
      "source": [
        "# set seed for reproducibility\n",
        "\n",
        "torch.manual_seed(10)\n",
        "torch.rand(2,3)"
      ],
      "metadata": {
        "colab": {
          "base_uri": "https://localhost:8080/"
        },
        "id": "-H6SqAfLVbMY",
        "outputId": "5a7586a3-9218-45f7-e9e7-69d6f2cca624"
      },
      "execution_count": 12,
      "outputs": [
        {
          "output_type": "execute_result",
          "data": {
            "text/plain": [
              "tensor([[0.4581, 0.4829, 0.3125],\n",
              "        [0.6150, 0.2139, 0.4118]])"
            ]
          },
          "metadata": {},
          "execution_count": 12
        }
      ]
    },
    {
      "cell_type": "code",
      "source": [
        "torch.tensor([[10,20,30] , [70,80,90]])"
      ],
      "metadata": {
        "colab": {
          "base_uri": "https://localhost:8080/"
        },
        "id": "iOrxnrjCVxLn",
        "outputId": "6a292600-e577-456e-f2fd-9864efa619df"
      },
      "execution_count": 13,
      "outputs": [
        {
          "output_type": "execute_result",
          "data": {
            "text/plain": [
              "tensor([[10, 20, 30],\n",
              "        [70, 80, 90]])"
            ]
          },
          "metadata": {},
          "execution_count": 13
        }
      ]
    },
    {
      "cell_type": "code",
      "source": [
        "torch.arange(0,10,2)\n",
        "\n",
        "# numbers in range 0 to 10 with steps = 2"
      ],
      "metadata": {
        "colab": {
          "base_uri": "https://localhost:8080/"
        },
        "id": "oejvvGBRV6rI",
        "outputId": "6c239871-894a-4704-f429-179b16392bd6"
      },
      "execution_count": 14,
      "outputs": [
        {
          "output_type": "execute_result",
          "data": {
            "text/plain": [
              "tensor([0, 2, 4, 6, 8])"
            ]
          },
          "metadata": {},
          "execution_count": 14
        }
      ]
    },
    {
      "cell_type": "code",
      "source": [
        "torch.linspace(0,14,10)\n",
        "\n",
        "# 10 evenly spaced values between 0 to 14"
      ],
      "metadata": {
        "colab": {
          "base_uri": "https://localhost:8080/"
        },
        "id": "FAQWAsHnWAYt",
        "outputId": "30c7c87f-4ca4-4695-b457-12a669046cdd"
      },
      "execution_count": 16,
      "outputs": [
        {
          "output_type": "execute_result",
          "data": {
            "text/plain": [
              "tensor([ 0.0000,  1.5556,  3.1111,  4.6667,  6.2222,  7.7778,  9.3333, 10.8889,\n",
              "        12.4444, 14.0000])"
            ]
          },
          "metadata": {},
          "execution_count": 16
        }
      ]
    },
    {
      "cell_type": "code",
      "source": [
        "torch.eye(3)\n",
        "\n",
        "# identity matrix"
      ],
      "metadata": {
        "colab": {
          "base_uri": "https://localhost:8080/"
        },
        "id": "8RKtQiAhWTUB",
        "outputId": "d4a64f6f-8d76-4ae1-ed1b-dcf8df134fe8"
      },
      "execution_count": 17,
      "outputs": [
        {
          "output_type": "execute_result",
          "data": {
            "text/plain": [
              "tensor([[1., 0., 0.],\n",
              "        [0., 1., 0.],\n",
              "        [0., 0., 1.]])"
            ]
          },
          "metadata": {},
          "execution_count": 17
        }
      ]
    },
    {
      "cell_type": "markdown",
      "source": [
        "# tensor Shapes"
      ],
      "metadata": {
        "id": "ADPQAaoScT-N"
      }
    },
    {
      "cell_type": "code",
      "source": [
        "x = torch.tensor([[1,2,3],[4,5,6]])\n",
        "x.shape"
      ],
      "metadata": {
        "colab": {
          "base_uri": "https://localhost:8080/"
        },
        "id": "Ly4j8v1BWZnO",
        "outputId": "ef8251f6-3816-4b48-bc6a-db9d1941496e"
      },
      "execution_count": 20,
      "outputs": [
        {
          "output_type": "execute_result",
          "data": {
            "text/plain": [
              "torch.Size([2, 3])"
            ]
          },
          "metadata": {},
          "execution_count": 20
        }
      ]
    },
    {
      "cell_type": "code",
      "source": [
        "torch.empty_like(x)\n",
        "\n",
        "# make an empty tensor with the same shape of the tensor passed\n"
      ],
      "metadata": {
        "colab": {
          "base_uri": "https://localhost:8080/"
        },
        "id": "Z7FYJxVUciAE",
        "outputId": "59144117-6837-458c-e7f7-bd31b6b58301"
      },
      "execution_count": 22,
      "outputs": [
        {
          "output_type": "execute_result",
          "data": {
            "text/plain": [
              "tensor([[7589742065960902512, 3202179600393397613,  723435908101054474],\n",
              "        [6872330769136574218, 7308339945077226784, 2910562809998701352]])"
            ]
          },
          "metadata": {},
          "execution_count": 22
        }
      ]
    },
    {
      "cell_type": "code",
      "source": [
        "torch.zeros_like(x)"
      ],
      "metadata": {
        "colab": {
          "base_uri": "https://localhost:8080/"
        },
        "id": "ZTQm_TyIcx6d",
        "outputId": "d1eb1c2d-5235-4a1d-b615-e160d50861e3"
      },
      "execution_count": 23,
      "outputs": [
        {
          "output_type": "execute_result",
          "data": {
            "text/plain": [
              "tensor([[0, 0, 0],\n",
              "        [0, 0, 0]])"
            ]
          },
          "metadata": {},
          "execution_count": 23
        }
      ]
    },
    {
      "cell_type": "code",
      "source": [
        "torch.ones_like(x)"
      ],
      "metadata": {
        "colab": {
          "base_uri": "https://localhost:8080/"
        },
        "id": "dQOtzwSbc0cV",
        "outputId": "62f0b2e3-6e44-425c-bc2d-f0c7e079251e"
      },
      "execution_count": 24,
      "outputs": [
        {
          "output_type": "execute_result",
          "data": {
            "text/plain": [
              "tensor([[1, 1, 1],\n",
              "        [1, 1, 1]])"
            ]
          },
          "metadata": {},
          "execution_count": 24
        }
      ]
    },
    {
      "cell_type": "code",
      "source": [
        "torch.rand_like(x , dtype = torch.float64)"
      ],
      "metadata": {
        "colab": {
          "base_uri": "https://localhost:8080/"
        },
        "id": "DXC8Ydmvc2OT",
        "outputId": "67649026-a1d4-46e7-c40f-09a6e0c24d37"
      },
      "execution_count": 37,
      "outputs": [
        {
          "output_type": "execute_result",
          "data": {
            "text/plain": [
              "tensor([[0.5504, 0.9424, 0.3835],\n",
              "        [0.6327, 0.5669, 0.3390]], dtype=torch.float64)"
            ]
          },
          "metadata": {},
          "execution_count": 37
        }
      ]
    },
    {
      "cell_type": "markdown",
      "source": [
        "# Tensor data types"
      ],
      "metadata": {
        "id": "NUZF9JoJdKSK"
      }
    },
    {
      "cell_type": "code",
      "source": [
        "x.dtype"
      ],
      "metadata": {
        "colab": {
          "base_uri": "https://localhost:8080/"
        },
        "id": "pYjj-ZaYdJyh",
        "outputId": "f0ce61f0-2ec1-4028-b81e-8670b0ceac8b"
      },
      "execution_count": 30,
      "outputs": [
        {
          "output_type": "execute_result",
          "data": {
            "text/plain": [
              "torch.int64"
            ]
          },
          "metadata": {},
          "execution_count": 30
        }
      ]
    },
    {
      "cell_type": "code",
      "source": [
        "# specify data type while creating the tensor\n",
        "torch.tensor([1.0,2.0,3.0] , dtype=torch.int32)"
      ],
      "metadata": {
        "colab": {
          "base_uri": "https://localhost:8080/"
        },
        "id": "gem1rOBDdO8l",
        "outputId": "d7b7a0fc-70c4-4f08-99ba-a2fdf494f8a4"
      },
      "execution_count": 31,
      "outputs": [
        {
          "output_type": "execute_result",
          "data": {
            "text/plain": [
              "tensor([1, 2, 3], dtype=torch.int32)"
            ]
          },
          "metadata": {},
          "execution_count": 31
        }
      ]
    },
    {
      "cell_type": "code",
      "source": [
        "torch.tensor([1,2,3],dtype=torch.float64)"
      ],
      "metadata": {
        "colab": {
          "base_uri": "https://localhost:8080/"
        },
        "id": "UWNgqvcude-g",
        "outputId": "106daa35-9f9c-4396-e49a-91739efe7596"
      },
      "execution_count": 33,
      "outputs": [
        {
          "output_type": "execute_result",
          "data": {
            "text/plain": [
              "tensor([1., 2., 3.], dtype=torch.float64)"
            ]
          },
          "metadata": {},
          "execution_count": 33
        }
      ]
    },
    {
      "cell_type": "code",
      "source": [
        "# convert\n",
        "print(x.dtype)\n",
        "\n",
        "x.to(torch.float64)"
      ],
      "metadata": {
        "colab": {
          "base_uri": "https://localhost:8080/"
        },
        "id": "kfyrHutWdk0_",
        "outputId": "488427dc-c65c-4487-9e7b-6cbc7407add4"
      },
      "execution_count": 36,
      "outputs": [
        {
          "output_type": "stream",
          "name": "stdout",
          "text": [
            "torch.int64\n"
          ]
        },
        {
          "output_type": "execute_result",
          "data": {
            "text/plain": [
              "tensor([[1., 2., 3.],\n",
              "        [4., 5., 6.]], dtype=torch.float64)"
            ]
          },
          "metadata": {},
          "execution_count": 36
        }
      ]
    },
    {
      "cell_type": "markdown",
      "source": [
        "# Math operations on tensors"
      ],
      "metadata": {
        "id": "L6hpyxaueQDW"
      }
    },
    {
      "cell_type": "markdown",
      "source": [
        "## Scalar operations"
      ],
      "metadata": {
        "id": "ll4C-p9qeUOX"
      }
    },
    {
      "cell_type": "code",
      "source": [
        "x = torch.tensor([[1,2,3,4],[5,6,7,8]])\n",
        "x"
      ],
      "metadata": {
        "colab": {
          "base_uri": "https://localhost:8080/"
        },
        "id": "LSge4DxreS2w",
        "outputId": "789be9b5-e2e8-43bb-8c30-d8eded686a22"
      },
      "execution_count": 40,
      "outputs": [
        {
          "output_type": "execute_result",
          "data": {
            "text/plain": [
              "tensor([[1, 2, 3, 4],\n",
              "        [5, 6, 7, 8]])"
            ]
          },
          "metadata": {},
          "execution_count": 40
        }
      ]
    },
    {
      "cell_type": "code",
      "source": [
        "x+2"
      ],
      "metadata": {
        "colab": {
          "base_uri": "https://localhost:8080/"
        },
        "id": "jOW2Z9fkemX-",
        "outputId": "fa497ae0-e162-4e0f-d1b9-7889fc46dc73"
      },
      "execution_count": 48,
      "outputs": [
        {
          "output_type": "execute_result",
          "data": {
            "text/plain": [
              "tensor([[ 3,  4,  5,  6],\n",
              "        [ 7,  8,  9, 10]])"
            ]
          },
          "metadata": {},
          "execution_count": 48
        }
      ]
    },
    {
      "cell_type": "code",
      "source": [
        "x-2"
      ],
      "metadata": {
        "colab": {
          "base_uri": "https://localhost:8080/"
        },
        "id": "1PaJBpfVergs",
        "outputId": "d4b64361-3b02-4238-f89b-e6a00c66f2ee"
      },
      "execution_count": 43,
      "outputs": [
        {
          "output_type": "execute_result",
          "data": {
            "text/plain": [
              "tensor([[-1,  0,  1,  2],\n",
              "        [ 3,  4,  5,  6]])"
            ]
          },
          "metadata": {},
          "execution_count": 43
        }
      ]
    },
    {
      "cell_type": "code",
      "source": [
        "x*2"
      ],
      "metadata": {
        "colab": {
          "base_uri": "https://localhost:8080/"
        },
        "id": "6LOzobZLeth3",
        "outputId": "e832e11d-35dd-4897-960d-27f025fc917f"
      },
      "execution_count": 44,
      "outputs": [
        {
          "output_type": "execute_result",
          "data": {
            "text/plain": [
              "tensor([[ 2,  4,  6,  8],\n",
              "        [10, 12, 14, 16]])"
            ]
          },
          "metadata": {},
          "execution_count": 44
        }
      ]
    },
    {
      "cell_type": "code",
      "source": [
        "x//2"
      ],
      "metadata": {
        "colab": {
          "base_uri": "https://localhost:8080/"
        },
        "id": "05ZExT0SeudJ",
        "outputId": "2c983692-00f8-41f2-e6ce-23ae96b9a47f"
      },
      "execution_count": 45,
      "outputs": [
        {
          "output_type": "execute_result",
          "data": {
            "text/plain": [
              "tensor([[0, 1, 1, 2],\n",
              "        [2, 3, 3, 4]])"
            ]
          },
          "metadata": {},
          "execution_count": 45
        }
      ]
    },
    {
      "cell_type": "code",
      "source": [
        "x**2"
      ],
      "metadata": {
        "colab": {
          "base_uri": "https://localhost:8080/"
        },
        "id": "odmXDFVpev_X",
        "outputId": "699487b9-931a-4978-9987-435e45fc6208"
      },
      "execution_count": 46,
      "outputs": [
        {
          "output_type": "execute_result",
          "data": {
            "text/plain": [
              "tensor([[ 1,  4,  9, 16],\n",
              "        [25, 36, 49, 64]])"
            ]
          },
          "metadata": {},
          "execution_count": 46
        }
      ]
    },
    {
      "cell_type": "code",
      "source": [
        "x%2"
      ],
      "metadata": {
        "colab": {
          "base_uri": "https://localhost:8080/"
        },
        "id": "_G73drQYe6k0",
        "outputId": "26203347-0920-4e6f-9292-6b1644019ec3"
      },
      "execution_count": 47,
      "outputs": [
        {
          "output_type": "execute_result",
          "data": {
            "text/plain": [
              "tensor([[1, 0, 1, 0],\n",
              "        [1, 0, 1, 0]])"
            ]
          },
          "metadata": {},
          "execution_count": 47
        }
      ]
    },
    {
      "cell_type": "markdown",
      "source": [
        "## element wise operations\n"
      ],
      "metadata": {
        "id": "R2kezpnKe_H2"
      }
    },
    {
      "cell_type": "code",
      "source": [
        "a = torch.tensor([[1,2,3,4],[5,6,7,8]])\n",
        "b = torch.tensor([[5,6,7,8],[9,10,11,12]])\n",
        "\n",
        "print(a)\n",
        "print(b)"
      ],
      "metadata": {
        "colab": {
          "base_uri": "https://localhost:8080/"
        },
        "id": "vU6FJ8PHfCPa",
        "outputId": "18ebe902-7f13-4c06-a78a-8ca40745cd46"
      },
      "execution_count": 53,
      "outputs": [
        {
          "output_type": "stream",
          "name": "stdout",
          "text": [
            "tensor([[1, 2, 3, 4],\n",
            "        [5, 6, 7, 8]])\n",
            "tensor([[ 5,  6,  7,  8],\n",
            "        [ 9, 10, 11, 12]])\n"
          ]
        }
      ]
    },
    {
      "cell_type": "code",
      "source": [
        "print(a+b)"
      ],
      "metadata": {
        "colab": {
          "base_uri": "https://localhost:8080/"
        },
        "id": "nNgWpYoCfZvy",
        "outputId": "4dd7c2e8-9bdd-43ef-a40c-c7515dba1a7b"
      },
      "execution_count": 54,
      "outputs": [
        {
          "output_type": "stream",
          "name": "stdout",
          "text": [
            "tensor([[ 6,  8, 10, 12],\n",
            "        [14, 16, 18, 20]])\n"
          ]
        }
      ]
    },
    {
      "cell_type": "code",
      "source": [
        "print(a-b)"
      ],
      "metadata": {
        "colab": {
          "base_uri": "https://localhost:8080/"
        },
        "id": "sRuHGkwOfcCk",
        "outputId": "c0eaf599-f5fd-43ed-b97f-e70d371354bc"
      },
      "execution_count": 56,
      "outputs": [
        {
          "output_type": "stream",
          "name": "stdout",
          "text": [
            "tensor([[-4, -4, -4, -4],\n",
            "        [-4, -4, -4, -4]])\n"
          ]
        }
      ]
    },
    {
      "cell_type": "code",
      "source": [
        "print(a*b)"
      ],
      "metadata": {
        "colab": {
          "base_uri": "https://localhost:8080/"
        },
        "id": "qd53CtUSg6tV",
        "outputId": "72a56d93-71de-4f68-90ad-5bcf90a0dadd"
      },
      "execution_count": 57,
      "outputs": [
        {
          "output_type": "stream",
          "name": "stdout",
          "text": [
            "tensor([[ 5, 12, 21, 32],\n",
            "        [45, 60, 77, 96]])\n"
          ]
        }
      ]
    },
    {
      "cell_type": "code",
      "source": [
        "print(a/b)"
      ],
      "metadata": {
        "colab": {
          "base_uri": "https://localhost:8080/"
        },
        "id": "c1alX5o-g8yw",
        "outputId": "4c5650d1-bab4-4ac2-c4c2-2b7bfdf0fd5d"
      },
      "execution_count": 58,
      "outputs": [
        {
          "output_type": "stream",
          "name": "stdout",
          "text": [
            "tensor([[0.2000, 0.3333, 0.4286, 0.5000],\n",
            "        [0.5556, 0.6000, 0.6364, 0.6667]])\n"
          ]
        }
      ]
    },
    {
      "cell_type": "code",
      "source": [
        "c = torch.tensor([1.2,2.3,4.5,5.6,6.7])\n",
        "c"
      ],
      "metadata": {
        "colab": {
          "base_uri": "https://localhost:8080/"
        },
        "id": "gKtpkMI4g-5k",
        "outputId": "76e003d0-9026-4c72-8abf-5f5c351fefd0"
      },
      "execution_count": 60,
      "outputs": [
        {
          "output_type": "execute_result",
          "data": {
            "text/plain": [
              "tensor([1.2000, 2.3000, 4.5000, 5.6000, 6.7000])"
            ]
          },
          "metadata": {},
          "execution_count": 60
        }
      ]
    },
    {
      "cell_type": "code",
      "source": [
        "torch.ceil(c)"
      ],
      "metadata": {
        "colab": {
          "base_uri": "https://localhost:8080/"
        },
        "id": "8aByV-wYiTyY",
        "outputId": "918963d8-67c2-49e2-814b-c8a656a5cffc"
      },
      "execution_count": 61,
      "outputs": [
        {
          "output_type": "execute_result",
          "data": {
            "text/plain": [
              "tensor([2., 3., 5., 6., 7.])"
            ]
          },
          "metadata": {},
          "execution_count": 61
        }
      ]
    },
    {
      "cell_type": "code",
      "source": [
        "torch.floor(c)"
      ],
      "metadata": {
        "colab": {
          "base_uri": "https://localhost:8080/"
        },
        "id": "Yjvpdt6QiZLO",
        "outputId": "12d38e9f-d714-4d4b-aac3-47d04abd038d"
      },
      "execution_count": 62,
      "outputs": [
        {
          "output_type": "execute_result",
          "data": {
            "text/plain": [
              "tensor([1., 2., 4., 5., 6.])"
            ]
          },
          "metadata": {},
          "execution_count": 62
        }
      ]
    },
    {
      "cell_type": "code",
      "source": [
        "torch.clamp(c,min=2,max=4)"
      ],
      "metadata": {
        "colab": {
          "base_uri": "https://localhost:8080/"
        },
        "id": "eNx_Wvo1iicT",
        "outputId": "fef02021-8161-4bc9-ee9f-41247388bf38"
      },
      "execution_count": 66,
      "outputs": [
        {
          "output_type": "execute_result",
          "data": {
            "text/plain": [
              "tensor([2.0000, 2.3000, 4.0000, 4.0000, 4.0000])"
            ]
          },
          "metadata": {},
          "execution_count": 66
        }
      ]
    },
    {
      "cell_type": "markdown",
      "source": [
        " ## reduction operations"
      ],
      "metadata": {
        "id": "6EoBMpfhjCZB"
      }
    },
    {
      "cell_type": "code",
      "source": [
        "m = torch.randint(size = (2,3) , low = 0, high = 10)\n",
        "m"
      ],
      "metadata": {
        "colab": {
          "base_uri": "https://localhost:8080/"
        },
        "id": "zAJ7CWDUjFgk",
        "outputId": "1c0c6b4b-2f6d-4c21-eb35-b8b212cf4736"
      },
      "execution_count": 78,
      "outputs": [
        {
          "output_type": "execute_result",
          "data": {
            "text/plain": [
              "tensor([[4, 5, 4],\n",
              "        [0, 8, 9]])"
            ]
          },
          "metadata": {},
          "execution_count": 78
        }
      ]
    },
    {
      "cell_type": "code",
      "source": [
        "# sum\n",
        "print(\"sum \" , torch.sum(m))\n",
        "\n",
        "print(\"element wise row sum\" , torch.sum(m , dim=0))\n",
        "\n",
        "print(\"mean of the tensor\",torch.mean(m , dtype=torch.float64))\n",
        "\n",
        "print(\"median\" , torch.median(m))\n",
        "\n",
        "print(\"max\",torch.max(m))\n",
        "\n",
        "print(\"min\",torch.min(m))\n",
        "\n",
        "print(\"pos of min element\",torch.argmin(m))\n",
        "\n",
        "print(\"pos of max element\",torch.argmax(m))"
      ],
      "metadata": {
        "colab": {
          "base_uri": "https://localhost:8080/"
        },
        "id": "4yKv8UwrjTuN",
        "outputId": "8ea70fa6-3094-4580-b8d0-6ad86ee11fe5"
      },
      "execution_count": 80,
      "outputs": [
        {
          "output_type": "stream",
          "name": "stdout",
          "text": [
            "sum  tensor(30)\n",
            "element wise row sum tensor([ 4, 13, 13])\n",
            "mean of the tensor tensor(5., dtype=torch.float64)\n",
            "median tensor(4)\n",
            "max tensor(9)\n",
            "min tensor(0)\n",
            "pos of min element tensor(3)\n",
            "pos of max element tensor(5)\n"
          ]
        }
      ]
    },
    {
      "cell_type": "markdown",
      "source": [
        "## Matrix operations"
      ],
      "metadata": {
        "id": "eWNL2klQk17V"
      }
    },
    {
      "cell_type": "code",
      "source": [
        "matrix1 = torch.randint(low = 0 , high = 10 , size = (2,3))\n",
        "matrix2 = torch.randint(low = 0 , high = 10 , size = (3,2))\n",
        "\n",
        "print(matrix1)\n",
        "print(matrix2)"
      ],
      "metadata": {
        "colab": {
          "base_uri": "https://localhost:8080/"
        },
        "id": "WtXtGIG4jdeL",
        "outputId": "9d8f3b43-6bc5-4d0f-acf7-22dbc0d7538b"
      },
      "execution_count": 94,
      "outputs": [
        {
          "output_type": "stream",
          "name": "stdout",
          "text": [
            "tensor([[8, 3, 1],\n",
            "        [8, 2, 6]])\n",
            "tensor([[1, 4],\n",
            "        [9, 1],\n",
            "        [8, 9]])\n"
          ]
        }
      ]
    },
    {
      "cell_type": "code",
      "source": [
        "torch.transpose(matrix1,0,1)"
      ],
      "metadata": {
        "colab": {
          "base_uri": "https://localhost:8080/"
        },
        "id": "GOhRGcd4lqdG",
        "outputId": "f094c9bb-572a-424b-b924-9531fe1169f4"
      },
      "execution_count": 101,
      "outputs": [
        {
          "output_type": "execute_result",
          "data": {
            "text/plain": [
              "tensor([[8, 8],\n",
              "        [3, 2],\n",
              "        [1, 6]])"
            ]
          },
          "metadata": {},
          "execution_count": 101
        }
      ]
    },
    {
      "cell_type": "code",
      "source": [
        "torch.matmul(matrix1 , matrix2)"
      ],
      "metadata": {
        "colab": {
          "base_uri": "https://localhost:8080/"
        },
        "id": "Z56UJghIlGgV",
        "outputId": "b12cebf7-9c9b-4f16-8e44-88ddfdf7300a"
      },
      "execution_count": 86,
      "outputs": [
        {
          "output_type": "execute_result",
          "data": {
            "text/plain": [
              "tensor([[ 30,  25],\n",
              "        [117, 107]])"
            ]
          },
          "metadata": {},
          "execution_count": 86
        }
      ]
    },
    {
      "cell_type": "markdown",
      "source": [
        "# Inplace operations"
      ],
      "metadata": {
        "id": "LSez80aLtssP"
      }
    },
    {
      "cell_type": "code",
      "source": [
        "m = torch.randint(0,10,(2,3))\n",
        "n = torch.randint(0,10,(2,3))\n",
        "\n",
        "print(m)\n",
        "print(n)"
      ],
      "metadata": {
        "colab": {
          "base_uri": "https://localhost:8080/"
        },
        "id": "FzwpJbuulnnR",
        "outputId": "ff0df7fb-a207-48ca-a4b9-022c4d10ffb8"
      },
      "execution_count": 102,
      "outputs": [
        {
          "output_type": "stream",
          "name": "stdout",
          "text": [
            "tensor([[7, 4, 9],\n",
            "        [6, 4, 4]])\n",
            "tensor([[6, 6, 5],\n",
            "        [6, 3, 6]])\n"
          ]
        }
      ]
    },
    {
      "cell_type": "code",
      "source": [
        "m+n\n",
        "\n",
        "# this result is a new tensor"
      ],
      "metadata": {
        "colab": {
          "base_uri": "https://localhost:8080/"
        },
        "id": "UKOQndVQt_QK",
        "outputId": "137a47e0-7c1c-4958-f6d3-aa6a7589be65"
      },
      "execution_count": 103,
      "outputs": [
        {
          "output_type": "execute_result",
          "data": {
            "text/plain": [
              "tensor([[13, 10, 14],\n",
              "        [12,  7, 10]])"
            ]
          },
          "metadata": {},
          "execution_count": 103
        }
      ]
    },
    {
      "cell_type": "code",
      "source": [
        "# inplce operations\n",
        "\n",
        "m.add_(n)"
      ],
      "metadata": {
        "colab": {
          "base_uri": "https://localhost:8080/"
        },
        "id": "oAMLcE5MuBAB",
        "outputId": "c2cc90d2-b28d-4b5c-a8dc-d4c8ae08e4db"
      },
      "execution_count": 104,
      "outputs": [
        {
          "output_type": "execute_result",
          "data": {
            "text/plain": [
              "tensor([[13, 10, 14],\n",
              "        [12,  7, 10]])"
            ]
          },
          "metadata": {},
          "execution_count": 104
        }
      ]
    },
    {
      "cell_type": "code",
      "source": [
        "m"
      ],
      "metadata": {
        "colab": {
          "base_uri": "https://localhost:8080/"
        },
        "id": "hx3W2oFHuM-o",
        "outputId": "4ae0861b-d6a3-44a3-8a21-92de2e308b49"
      },
      "execution_count": 105,
      "outputs": [
        {
          "output_type": "execute_result",
          "data": {
            "text/plain": [
              "tensor([[13, 10, 14],\n",
              "        [12,  7, 10]])"
            ]
          },
          "metadata": {},
          "execution_count": 105
        }
      ]
    },
    {
      "cell_type": "code",
      "source": [
        "m.relu_()\n",
        "\n",
        "# inplace operations will have _ after the function call"
      ],
      "metadata": {
        "colab": {
          "base_uri": "https://localhost:8080/"
        },
        "id": "5PtYajjuu2mo",
        "outputId": "3c17df8b-cf05-4047-ccaf-29035609bca8"
      },
      "execution_count": 106,
      "outputs": [
        {
          "output_type": "execute_result",
          "data": {
            "text/plain": [
              "tensor([[13, 10, 14],\n",
              "        [12,  7, 10]])"
            ]
          },
          "metadata": {},
          "execution_count": 106
        }
      ]
    },
    {
      "cell_type": "markdown",
      "source": [
        "# Copy a tensor"
      ],
      "metadata": {
        "id": "wGk9nWOwu_71"
      }
    },
    {
      "cell_type": "code",
      "source": [
        "a = torch.rand(2,3)\n",
        "a"
      ],
      "metadata": {
        "colab": {
          "base_uri": "https://localhost:8080/"
        },
        "id": "kFwP7DrrvCNO",
        "outputId": "afd696b5-f99f-4821-ae73-1368ef8a2407"
      },
      "execution_count": 137,
      "outputs": [
        {
          "output_type": "execute_result",
          "data": {
            "text/plain": [
              "tensor([[0.3810, 0.4269, 0.1977],\n",
              "        [0.1699, 0.6641, 0.9510]])"
            ]
          },
          "metadata": {},
          "execution_count": 137
        }
      ]
    },
    {
      "cell_type": "code",
      "source": [
        "b = a"
      ],
      "metadata": {
        "id": "O9LpVkOMu9rX"
      },
      "execution_count": 138,
      "outputs": []
    },
    {
      "cell_type": "code",
      "source": [
        "b"
      ],
      "metadata": {
        "colab": {
          "base_uri": "https://localhost:8080/"
        },
        "id": "nPP5TZpUvvjQ",
        "outputId": "63350313-0518-44e6-dd51-041c921b2130"
      },
      "execution_count": 139,
      "outputs": [
        {
          "output_type": "execute_result",
          "data": {
            "text/plain": [
              "tensor([[0.3810, 0.4269, 0.1977],\n",
              "        [0.1699, 0.6641, 0.9510]])"
            ]
          },
          "metadata": {},
          "execution_count": 139
        }
      ]
    },
    {
      "cell_type": "code",
      "source": [
        "a[0][0]=0"
      ],
      "metadata": {
        "id": "vEu9b0_Zvq5V"
      },
      "execution_count": 140,
      "outputs": []
    },
    {
      "cell_type": "code",
      "source": [
        "a"
      ],
      "metadata": {
        "colab": {
          "base_uri": "https://localhost:8080/"
        },
        "id": "YdhFzd0CwUlX",
        "outputId": "179136b5-b4ec-4383-e58d-48906eaac13e"
      },
      "execution_count": 141,
      "outputs": [
        {
          "output_type": "execute_result",
          "data": {
            "text/plain": [
              "tensor([[0.0000, 0.4269, 0.1977],\n",
              "        [0.1699, 0.6641, 0.9510]])"
            ]
          },
          "metadata": {},
          "execution_count": 141
        }
      ]
    },
    {
      "cell_type": "code",
      "source": [
        "b"
      ],
      "metadata": {
        "colab": {
          "base_uri": "https://localhost:8080/"
        },
        "id": "yvJin5F-wJUN",
        "outputId": "7e1957dc-bca2-4e0d-81c9-3bc8cc97bdc1"
      },
      "execution_count": 142,
      "outputs": [
        {
          "output_type": "execute_result",
          "data": {
            "text/plain": [
              "tensor([[0.0000, 0.4269, 0.1977],\n",
              "        [0.1699, 0.6641, 0.9510]])"
            ]
          },
          "metadata": {},
          "execution_count": 142
        }
      ]
    },
    {
      "cell_type": "code",
      "source": [
        "# thus even if a copy is created and then changes are made into the original term ,the changes will still be seen in the copy"
      ],
      "metadata": {
        "id": "-rfPG_njwRcN"
      },
      "execution_count": null,
      "outputs": []
    },
    {
      "cell_type": "code",
      "source": [
        "# thus to avoid this\n",
        "\n",
        "c = a.clone()\n",
        "\n",
        "# now a permanant copy of a particular instance of A is created , now even if changes are made in a , they cannot be see in c"
      ],
      "metadata": {
        "id": "xz0yFebcwgh_"
      },
      "execution_count": 143,
      "outputs": []
    }
  ]
}